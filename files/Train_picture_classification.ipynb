{
  "nbformat": 4,
  "nbformat_minor": 0,
  "metadata": {
    "colab": {
      "name": "Train picture classification.ipynb",
      "provenance": [],
      "collapsed_sections": []
    },
    "kernelspec": {
      "name": "python3",
      "display_name": "Python 3"
    }
  },
  "cells": [
    {
      "cell_type": "markdown",
      "metadata": {
        "id": "ImjnWHvujVmb",
        "colab_type": "text"
      },
      "source": [
        "**Import Google drive** so we can modify photos "
      ]
    },
    {
      "cell_type": "code",
      "metadata": {
        "id": "mGfsZucRiF96",
        "colab_type": "code",
        "colab": {}
      },
      "source": [
        "from google.colab import drive\n",
        "drive.mount('/content/drive')"
      ],
      "execution_count": 0,
      "outputs": []
    },
    {
      "cell_type": "markdown",
      "metadata": {
        "id": "OrwikhwEy6rs",
        "colab_type": "text"
      },
      "source": [
        "## Resize the photos"
      ]
    },
    {
      "cell_type": "code",
      "metadata": {
        "id": "Xq_tpDyIu2P7",
        "colab_type": "code",
        "colab": {}
      },
      "source": [
        "import glob\n",
        "import os\n",
        "from PIL import Image \n",
        "\n",
        "\n",
        "Input_dir='/content/drive/My Drive/digital_digit'\n",
        "Output_dir='/content/drive/My Drive/digital_digit_output'\n",
        "\n",
        "subdir = [\"0\", \"1\", \"2\", \"3\", \"4\", \"5\", \"6\", \"7\", \"8\", \"9\", \"NaN\"]\n",
        "\n",
        "for aktsubdir in subdir:\n",
        "    files = glob.glob(Input_dir + '/' + aktsubdir + '/*.jpg')\n",
        "    for aktfile in files:\n",
        "        print(aktfile)\n",
        "        test_image = Image.open(aktfile)\n",
        "        test_image = test_image.resize((20, 32), Image.NEAREST)\n",
        "        base=os.path.basename(aktfile)\n",
        "        save_name = Output_dir + '/' + aktsubdir + '/' + base\n",
        "        os.makedirs(os.path.dirname(save_name), exist_ok=True)\n",
        "        test_image.save(save_name, \"JPEG\")"
      ],
      "execution_count": 0,
      "outputs": []
    },
    {
      "cell_type": "markdown",
      "metadata": {
        "id": "cJ32W-_ej52m",
        "colab_type": "text"
      },
      "source": [
        "Show image augumentation"
      ]
    },
    {
      "cell_type": "code",
      "metadata": {
        "id": "E2iLe7xIj449",
        "colab_type": "code",
        "colab": {}
      },
      "source": [
        "from numpy import expand_dims\n",
        "from keras.preprocessing.image import load_img\n",
        "from keras.preprocessing.image import img_to_array\n",
        "from keras.preprocessing.image import ImageDataGenerator\n",
        "from matplotlib import pyplot\n",
        "import os, random\n",
        "\n",
        "%matplotlib inline\n",
        "\n",
        "Output_dir='/content/drive/My Drive/digital_digit_output'\n",
        "subdir = [\"0\", \"1\", \"2\", \"3\", \"4\", \"5\", \"6\", \"7\", \"8\", \"9\"]\n",
        "actual_dir = Output_dir + '/' + random.choice(subdir) + '/'\n",
        "img_path = actual_dir + random.choice(os.listdir(actual_dir))\n",
        "print(img_path)\n",
        "#img = load_img('/content/drive/My Drive/digital_digit_output/2/ziffer5_2020-02-04_21-02-14.jpg')\n",
        "img = load_img(img_path)\n",
        "data = img_to_array(img)\n",
        "samples = expand_dims(data, 0)\n",
        "\n",
        "#Image_Augmentation_Parameters\n",
        "Shift_Range = 2\n",
        "Brightness_Range = 0.4\n",
        "Rotation_Angle=5\n",
        "ZoomRange = 0.3\n",
        "\n",
        "datagen = ImageDataGenerator(width_shift_range=[-Shift_Range,Shift_Range], \n",
        "                             height_shift_range=[-Shift_Range,Shift_Range],\n",
        "                             brightness_range=[1-Brightness_Range,1+Brightness_Range],\n",
        "                             zoom_range=[1-ZoomRange, 1+ZoomRange],\n",
        "                             rotation_range=Rotation_Angle)\n",
        "\n",
        "it = datagen.flow(samples, batch_size=1)\n",
        "\n",
        "for i in range(9):\n",
        "    pyplot.subplot(330 + 1 + i)\n",
        "    batch = it.next()\n",
        "    image = batch[0].astype('uint8')\n",
        "    pyplot.imshow(image)\n",
        "\n",
        "pyplot.show()"
      ],
      "execution_count": 0,
      "outputs": []
    },
    {
      "cell_type": "markdown",
      "metadata": {
        "id": "6WfQmymAk90k",
        "colab_type": "text"
      },
      "source": [
        "**TRAINING**\n",
        "Prepare the libraries"
      ]
    },
    {
      "cell_type": "code",
      "metadata": {
        "id": "NpZHUeWck_yw",
        "colab_type": "code",
        "colab": {}
      },
      "source": [
        "\n",
        "import tensorflow as tf\n",
        "import matplotlib.pyplot as plt\n",
        "import glob\n",
        "import numpy as np\n",
        "from sklearn.utils import shuffle\n",
        "from tensorflow.python import keras\n",
        "from tensorflow.python.keras import Sequential\n",
        "from tensorflow.python.keras.layers import Dense, InputLayer, Conv2D, MaxPool2D, Flatten, BatchNormalization\n",
        "from tensorflow.keras.preprocessing.image import ImageDataGenerator\n",
        "from sklearn.model_selection import train_test_split\n",
        "from tensorflow.keras.callbacks import History \n",
        "from tensorflow.python.keras.utils import to_categorical\n",
        "from PIL import Image \n",
        "\n",
        "loss_ges = np.array([])\n",
        "val_loss_ges = np.array([])\n",
        "\n",
        "%matplotlib inline\n",
        "np.set_printoptions(precision=4)\n",
        "np.set_printoptions(suppress=True)"
      ],
      "execution_count": 0,
      "outputs": []
    },
    {
      "cell_type": "markdown",
      "metadata": {
        "id": "dQZKCJUrlYpM",
        "colab_type": "text"
      },
      "source": [
        "**Import images**\n",
        "\n",
        "This could take loong time"
      ]
    },
    {
      "cell_type": "code",
      "metadata": {
        "id": "9i4YPPt9la4H",
        "colab_type": "code",
        "colab": {}
      },
      "source": [
        "Input_dir='/content/drive/My Drive/digital_digit_output'\n",
        "\n",
        "files = glob.glob(Input_dir + '/*.*')\n",
        "x_data = []\n",
        "y_data = []\n",
        "\n",
        "subdir = [\"0\", \"1\", \"2\", \"3\", \"4\", \"5\", \"6\", \"7\", \"8\", \"9\", \"NaN\"]\n",
        "\n",
        "for aktsubdir in subdir:\n",
        "    files = glob.glob(Input_dir + '/' + aktsubdir + '/*.jpg')\n",
        "    if aktsubdir == \"NaN\":\n",
        "        category = 10                # NaN does not work --> convert to 10\n",
        "    else:\n",
        "        category = aktsubdir\n",
        "    for aktfile in files:\n",
        "        test_image = Image.open(aktfile)\n",
        "        test_image = np.array(test_image, dtype=\"float32\")\n",
        "        x_data.append(test_image)\n",
        "        y_data.append(np.array([category]))\n",
        "\n",
        "x_data = np.array(x_data)\n",
        "y_data = np.array(y_data)\n",
        "y_data = to_categorical(y_data, 11)\n",
        "print(x_data.shape)\n",
        "print(y_data.shape)\n",
        "\n",
        "x_data, y_data = shuffle(x_data, y_data)\n",
        "X_train, X_test, y_train, y_test = train_test_split(x_data, y_data, test_size=0.2)"
      ],
      "execution_count": 0,
      "outputs": []
    },
    {
      "cell_type": "markdown",
      "metadata": {
        "id": "zeVSQQNzltir",
        "colab_type": "text"
      },
      "source": [
        "**Define the model**"
      ]
    },
    {
      "cell_type": "code",
      "metadata": {
        "id": "LdlQQmaelvKX",
        "colab_type": "code",
        "colab": {}
      },
      "source": [
        "model = Sequential()\n",
        "model.add(BatchNormalization(input_shape=(32,20,3)))\n",
        "model.add(Conv2D(32, (3, 3), padding='same', activation=\"relu\"))\n",
        "model.add(MaxPool2D(pool_size=(2,2)))\n",
        "model.add(Conv2D(62, (3, 3), padding='same'))\n",
        "model.add(MaxPool2D(pool_size=(2,2)))\n",
        "model.add(Conv2D(62, (3, 3), padding='same'))\n",
        "model.add(MaxPool2D(pool_size=(2,2)))\n",
        "model.add(Flatten())\n",
        "model.add(Dense(512,activation=\"relu\"))\n",
        "model.add(Dense(11, activation = \"softmax\"))\n",
        "model.summary()\n",
        "\n",
        "model.compile(loss=keras.losses.categorical_crossentropy, optimizer=tf.keras.optimizers.Adadelta(learning_rate=1.0, rho=0.95), metrics = [\"accuracy\"])"
      ],
      "execution_count": 0,
      "outputs": []
    },
    {
      "cell_type": "markdown",
      "metadata": {
        "id": "b0lRjzzOl4Z3",
        "colab_type": "text"
      },
      "source": [
        "**Train the model**"
      ]
    },
    {
      "cell_type": "code",
      "metadata": {
        "id": "8USCB2u6l7Wz",
        "colab_type": "code",
        "colab": {}
      },
      "source": [
        "Batch_Size = 4\n",
        "Epoch_Anz = 80\n",
        "\n",
        "Shift_Range = 2\n",
        "Brightness_Range = 0.4\n",
        "Rotation_Angle=5\n",
        "ZoomRange = 0.3\n",
        "\n",
        "datagen = ImageDataGenerator(width_shift_range=[-Shift_Range,Shift_Range], \n",
        "                             height_shift_range=[-Shift_Range,Shift_Range],\n",
        "                             brightness_range=[1-Brightness_Range,1+Brightness_Range],\n",
        "                             zoom_range=[1-ZoomRange, 1+ZoomRange],\n",
        "                             rotation_range=Rotation_Angle,\n",
        "                             validation_split=0.2)\n",
        "\n",
        "train_iterator = datagen.flow(X_train, y_train, batch_size=Batch_Size)\n",
        "validation_iterator = datagen.flow(X_test, y_test, batch_size=Batch_Size)\n",
        "\n",
        "history = model.fit_generator(train_iterator, validation_data = validation_iterator, epochs = Epoch_Anz)"
      ],
      "execution_count": 0,
      "outputs": []
    },
    {
      "cell_type": "markdown",
      "metadata": {
        "id": "YlQhp7Xml-hc",
        "colab_type": "text"
      },
      "source": [
        "**Show the results**"
      ]
    },
    {
      "cell_type": "code",
      "metadata": {
        "id": "bwRfEfi9mAMF",
        "colab_type": "code",
        "colab": {}
      },
      "source": [
        "\n",
        "loss_ges = np.append(loss_ges, history.history['loss'])\n",
        "val_loss_ges = np.append(val_loss_ges, history.history['val_loss'])\n",
        "\n",
        "plt.semilogy(history.history['loss'])\n",
        "plt.semilogy(history.history['val_loss'])\n",
        "plt.title('model loss')\n",
        "plt.ylabel('loss')\n",
        "plt.xlabel('epoch')\n",
        "plt.legend(['train','eval'], loc='upper left')\n",
        "plt.show()"
      ],
      "execution_count": 0,
      "outputs": []
    },
    {
      "cell_type": "markdown",
      "metadata": {
        "id": "Cy8ad-0rmF5X",
        "colab_type": "text"
      },
      "source": [
        "**Check the deviation**"
      ]
    },
    {
      "cell_type": "code",
      "metadata": {
        "id": "1yUqRMuSmH4H",
        "colab_type": "code",
        "colab": {}
      },
      "source": [
        "Input_dir='/content/drive/My Drive/digital_digit_output'\n",
        "subdir = [\"NaN\", \"0\", \"1\", \"2\", \"3\", \"4\", \"5\", \"6\", \"7\", \"8\", \"9\"]\n",
        "res = []\n",
        "\n",
        "for aktsubdir in subdir:\n",
        "    files = glob.glob(Input_dir + '/' + aktsubdir + '/*.jpg')\n",
        "    if aktsubdir == \"NaN\":\n",
        "        zw1 = -1\n",
        "    else:\n",
        "        zw1 = int(aktsubdir)\n",
        "    for aktfile in files:\n",
        "        test_image = Image.open(aktfile)\n",
        "        test_image = np.array(test_image, dtype=\"float32\")\n",
        "        img = np.reshape(test_image,[1,32,20,3])\n",
        "        classes = model.predict_classes(img)\n",
        "        classes = classes[0]\n",
        "        if classes == 10: \n",
        "            classes = -1\n",
        "        zw2 = classes\n",
        "        zw3 = zw2 - zw1\n",
        "        res.append(np.array([zw1, zw2, zw3]))\n",
        "\n",
        "res = np.asarray(res)\n",
        "plt.plot(res)\n",
        "\n",
        "plt.plot(res[:,0])\n",
        "plt.plot(res[:,1])\n",
        "plt.title('Result')\n",
        "plt.ylabel('Digital Value')\n",
        "plt.xlabel('#Picture')\n",
        "plt.legend(['real','model'], loc='upper left')\n",
        "plt.show()"
      ],
      "execution_count": 0,
      "outputs": []
    },
    {
      "cell_type": "markdown",
      "metadata": {
        "id": "sGYArkOLmYiJ",
        "colab_type": "text"
      },
      "source": [
        "**Check image for expected class**"
      ]
    },
    {
      "cell_type": "code",
      "metadata": {
        "id": "-egGJGccmcOQ",
        "colab_type": "code",
        "colab": {}
      },
      "source": [
        "Input_dir='/content/drive/My Drive/digital_digit_output'\n",
        "only_deviation = True\n",
        "import matplotlib.pyplot as plt\n",
        "import matplotlib.image as mpimg \n",
        "\n",
        "subdir = [\"0\", \"1\", \"2\", \"3\", \"4\", \"5\", \"6\", \"7\", \"8\", \"9\", \"NaN\"]\n",
        "\n",
        "for aktsubdir in subdir:\n",
        "    files = glob.glob(Input_dir + '/' + aktsubdir + '/*.jpg')\n",
        "    expected_class = aktsubdir\n",
        "    for aktfile in files:\n",
        "        test_image = Image.open(aktfile)\n",
        "        test_image = np.array(test_image, dtype=\"float32\")\n",
        "        img = np.reshape(test_image,[1,32,20,3])\n",
        "        classes = model.predict_classes(img)\n",
        "        classes = classes[0]\n",
        "        if classes == 10: \n",
        "            classes = \"NaN\"\n",
        "        if only_deviation == True:\n",
        "            if str(classes) != str(expected_class):\n",
        "                print(aktfile + \" === \" + aktsubdir +  \" === \" + str(classes))\n",
        "                img=mpimg.imread(aktfile)\n",
        "                imgplot = plt.imshow(img)\n",
        "                plt.show()\n",
        "                #print(str(classes))\n",
        "                \n",
        "        else:\n",
        "            print(aktfile + \" \" + aktsubdir +  \" \" + str(classes))"
      ],
      "execution_count": 0,
      "outputs": []
    },
    {
      "cell_type": "markdown",
      "metadata": {
        "id": "iinZRMSQmS7l",
        "colab_type": "text"
      },
      "source": [
        "**Save the model**"
      ]
    },
    {
      "cell_type": "code",
      "metadata": {
        "id": "V5sx707NmUPy",
        "colab_type": "code",
        "colab": {}
      },
      "source": [
        "model.save(\"/content/drive/My Drive/Train_CNN_Digital-Readout_Version_Luc3as_2.0.0.h5\")"
      ],
      "execution_count": 0,
      "outputs": []
    }
  ]
}